{
 "cells": [
  {
   "cell_type": "markdown",
   "metadata": {},
   "source": [
    "# Installing necessary libraries"
   ]
  },
  {
   "cell_type": "code",
   "execution_count": 1,
   "metadata": {},
   "outputs": [],
   "source": [
    "#!pip install --upgrade tensorflow"
   ]
  },
  {
   "cell_type": "markdown",
   "metadata": {},
   "source": [
    "# Importing libraries"
   ]
  },
  {
   "cell_type": "code",
   "execution_count": 1,
   "metadata": {},
   "outputs": [],
   "source": [
    "import os\n",
    "import pandas as pd\n",
    "import numpy as np\n",
    "import keras\n",
    "from tqdm.notebook import tqdm\n",
    "from time import sleep\n",
    "\n",
    "from keras.models import Sequential\n",
    "from keras.layers import Dense\n",
    "from keras.layers import Input\n",
    "from keras.utils import to_categorical\n",
    "\n",
    "from sklearn.model_selection import train_test_split\n",
    "from sklearn.preprocessing import MinMaxScaler\n",
    "from sklearn.preprocessing import LabelEncoder"
   ]
  },
  {
   "cell_type": "markdown",
   "metadata": {},
   "source": [
    "# Loading data"
   ]
  },
  {
   "cell_type": "code",
   "execution_count": 2,
   "metadata": {},
   "outputs": [],
   "source": [
    "file_path_1 =  r\"..\\Extracted_files\\HHV1_PERV1_merged.dta\""
   ]
  },
  {
   "cell_type": "code",
   "execution_count": 3,
   "metadata": {},
   "outputs": [],
   "source": [
    "df = pd.read_stata(file_path_1)"
   ]
  },
  {
   "cell_type": "code",
   "execution_count": 5,
   "metadata": {},
   "outputs": [
    {
     "name": "stdout",
     "output_type": "stream",
     "text": [
      "Number of HHs surveyed = 418159. \n",
      "Number of variables = 181\n"
     ]
    },
    {
     "data": {
      "text/html": [
       "<div>\n",
       "<style scoped>\n",
       "    .dataframe tbody tr th:only-of-type {\n",
       "        vertical-align: middle;\n",
       "    }\n",
       "\n",
       "    .dataframe tbody tr th {\n",
       "        vertical-align: top;\n",
       "    }\n",
       "\n",
       "    .dataframe thead th {\n",
       "        text-align: right;\n",
       "    }\n",
       "</style>\n",
       "<table border=\"1\" class=\"dataframe\">\n",
       "  <thead>\n",
       "    <tr style=\"text-align: right;\">\n",
       "      <th></th>\n",
       "      <th>hhvar1</th>\n",
       "      <th>hhvar2</th>\n",
       "      <th>hhvar3</th>\n",
       "      <th>hhvar4</th>\n",
       "      <th>hhvar5</th>\n",
       "      <th>hhvar6</th>\n",
       "      <th>hhvar7</th>\n",
       "      <th>hhvar8</th>\n",
       "      <th>hhvar9</th>\n",
       "      <th>hhvar10</th>\n",
       "      <th>...</th>\n",
       "      <th>pvar134</th>\n",
       "      <th>pvar135</th>\n",
       "      <th>pvar136</th>\n",
       "      <th>pvar137</th>\n",
       "      <th>pvar138</th>\n",
       "      <th>pvar139</th>\n",
       "      <th>perid</th>\n",
       "      <th>_merge</th>\n",
       "      <th>weights</th>\n",
       "      <th>usual_status_code</th>\n",
       "    </tr>\n",
       "  </thead>\n",
       "  <tbody>\n",
       "    <tr>\n",
       "      <th>0</th>\n",
       "      <td>FVH7</td>\n",
       "      <td>104</td>\n",
       "      <td>Q1</td>\n",
       "      <td>V1</td>\n",
       "      <td>1</td>\n",
       "      <td>02</td>\n",
       "      <td>04</td>\n",
       "      <td>021</td>\n",
       "      <td>01</td>\n",
       "      <td>14</td>\n",
       "      <td>...</td>\n",
       "      <td>0</td>\n",
       "      <td>0</td>\n",
       "      <td>2</td>\n",
       "      <td>4</td>\n",
       "      <td>246798</td>\n",
       "      <td>4</td>\n",
       "      <td>Q1V1110002110101</td>\n",
       "      <td>both</td>\n",
       "      <td>308</td>\n",
       "      <td>94.0</td>\n",
       "    </tr>\n",
       "    <tr>\n",
       "      <th>1</th>\n",
       "      <td>FVH7</td>\n",
       "      <td>104</td>\n",
       "      <td>Q1</td>\n",
       "      <td>V1</td>\n",
       "      <td>1</td>\n",
       "      <td>02</td>\n",
       "      <td>04</td>\n",
       "      <td>021</td>\n",
       "      <td>01</td>\n",
       "      <td>14</td>\n",
       "      <td>...</td>\n",
       "      <td>0</td>\n",
       "      <td>0</td>\n",
       "      <td>2</td>\n",
       "      <td>4</td>\n",
       "      <td>246798</td>\n",
       "      <td>4</td>\n",
       "      <td>Q1V1110002110102</td>\n",
       "      <td>both</td>\n",
       "      <td>308</td>\n",
       "      <td>93.0</td>\n",
       "    </tr>\n",
       "    <tr>\n",
       "      <th>2</th>\n",
       "      <td>FVH7</td>\n",
       "      <td>104</td>\n",
       "      <td>Q1</td>\n",
       "      <td>V1</td>\n",
       "      <td>1</td>\n",
       "      <td>02</td>\n",
       "      <td>04</td>\n",
       "      <td>021</td>\n",
       "      <td>01</td>\n",
       "      <td>14</td>\n",
       "      <td>...</td>\n",
       "      <td>0</td>\n",
       "      <td>6500</td>\n",
       "      <td>2</td>\n",
       "      <td>4</td>\n",
       "      <td>246798</td>\n",
       "      <td>4</td>\n",
       "      <td>Q1V1110002110103</td>\n",
       "      <td>both</td>\n",
       "      <td>308</td>\n",
       "      <td>11.0</td>\n",
       "    </tr>\n",
       "    <tr>\n",
       "      <th>3</th>\n",
       "      <td>FVH7</td>\n",
       "      <td>104</td>\n",
       "      <td>Q1</td>\n",
       "      <td>V1</td>\n",
       "      <td>1</td>\n",
       "      <td>02</td>\n",
       "      <td>04</td>\n",
       "      <td>021</td>\n",
       "      <td>01</td>\n",
       "      <td>14</td>\n",
       "      <td>...</td>\n",
       "      <td>0</td>\n",
       "      <td>0</td>\n",
       "      <td>2</td>\n",
       "      <td>4</td>\n",
       "      <td>246798</td>\n",
       "      <td>4</td>\n",
       "      <td>Q1V1110002110104</td>\n",
       "      <td>both</td>\n",
       "      <td>308</td>\n",
       "      <td>21.0</td>\n",
       "    </tr>\n",
       "    <tr>\n",
       "      <th>4</th>\n",
       "      <td>FVH7</td>\n",
       "      <td>104</td>\n",
       "      <td>Q1</td>\n",
       "      <td>V1</td>\n",
       "      <td>1</td>\n",
       "      <td>02</td>\n",
       "      <td>04</td>\n",
       "      <td>021</td>\n",
       "      <td>01</td>\n",
       "      <td>14</td>\n",
       "      <td>...</td>\n",
       "      <td>0</td>\n",
       "      <td>0</td>\n",
       "      <td>2</td>\n",
       "      <td>4</td>\n",
       "      <td>246798</td>\n",
       "      <td>4</td>\n",
       "      <td>Q1V1110002110105</td>\n",
       "      <td>both</td>\n",
       "      <td>308</td>\n",
       "      <td>91.0</td>\n",
       "    </tr>\n",
       "  </tbody>\n",
       "</table>\n",
       "<p>5 rows × 181 columns</p>\n",
       "</div>"
      ],
      "text/plain": [
       "  hhvar1 hhvar2 hhvar3 hhvar4 hhvar5 hhvar6 hhvar7 hhvar8 hhvar9 hhvar10  ...  \\\n",
       "0   FVH7    104     Q1     V1      1     02     04    021     01      14  ...   \n",
       "1   FVH7    104     Q1     V1      1     02     04    021     01      14  ...   \n",
       "2   FVH7    104     Q1     V1      1     02     04    021     01      14  ...   \n",
       "3   FVH7    104     Q1     V1      1     02     04    021     01      14  ...   \n",
       "4   FVH7    104     Q1     V1      1     02     04    021     01      14  ...   \n",
       "\n",
       "  pvar134 pvar135 pvar136 pvar137 pvar138 pvar139             perid _merge  \\\n",
       "0       0       0       2       4  246798       4  Q1V1110002110101   both   \n",
       "1       0       0       2       4  246798       4  Q1V1110002110102   both   \n",
       "2       0    6500       2       4  246798       4  Q1V1110002110103   both   \n",
       "3       0       0       2       4  246798       4  Q1V1110002110104   both   \n",
       "4       0       0       2       4  246798       4  Q1V1110002110105   both   \n",
       "\n",
       "  weights usual_status_code  \n",
       "0     308              94.0  \n",
       "1     308              93.0  \n",
       "2     308              11.0  \n",
       "3     308              21.0  \n",
       "4     308              91.0  \n",
       "\n",
       "[5 rows x 181 columns]"
      ]
     },
     "metadata": {},
     "output_type": "display_data"
    }
   ],
   "source": [
    "print(\"Number of HHs surveyed = {}. \\nNumber of variables = {}\".format(df.shape[0], df.shape[1]))\n",
    "display(df.head())"
   ]
  },
  {
   "cell_type": "markdown",
   "metadata": {},
   "source": [
    "# Documentation"
   ]
  },
  {
   "cell_type": "markdown",
   "metadata": {},
   "source": [
    "What determines status of employment?"
   ]
  },
  {
   "cell_type": "markdown",
   "metadata": {},
   "source": [
    "# Changing formats"
   ]
  },
  {
   "cell_type": "code",
   "execution_count": 6,
   "metadata": {},
   "outputs": [],
   "source": [
    "#To numeric\n",
    "numeric_columns = ['hhvar21', 'hhvar30','pvar20', 'pvar24','pvar29']\n",
    "df[numeric_columns] = df[numeric_columns].apply(pd.to_numeric)\n",
    "\n",
    "#To categorical\n",
    "categorical_columns = ['hhvar5', 'hhvar6', 'hhvar7', 'hhvar23', 'hhvar24', 'pvar18', 'pvar19',  'pvar21', 'pvar22', 'pvar23', 'pvar26', 'pvar28', 'pvar30']\n",
    "df[categorical_columns] = df[categorical_columns].astype('category')"
   ]
  },
  {
   "cell_type": "markdown",
   "metadata": {},
   "source": [
    "# Adding columns"
   ]
  },
  {
   "cell_type": "code",
   "execution_count": 7,
   "metadata": {},
   "outputs": [
    {
     "name": "stderr",
     "output_type": "stream",
     "text": [
      "C:\\Users\\Tarun\\AppData\\Local\\Temp\\ipykernel_25260\\190960983.py:1: PerformanceWarning: DataFrame is highly fragmented.  This is usually the result of calling `frame.insert` many times, which has poor performance.  Consider joining all columns at once using pd.concat(axis=1) instead. To get a de-fragmented frame, use `newframe = frame.copy()`\n",
      "  df[\"dummy_employed\"] = np.where(df['usual_status_code']<=51,1,0)\n"
     ]
    }
   ],
   "source": [
    "df[\"dummy_employed\"] = np.where(df['usual_status_code']<=51,1,0)"
   ]
  },
  {
   "cell_type": "markdown",
   "metadata": {},
   "source": [
    "# Filtering"
   ]
  },
  {
   "cell_type": "code",
   "execution_count": 8,
   "metadata": {},
   "outputs": [],
   "source": [
    "#Filtering for columns\n",
    "filtered_columns = numeric_columns + categorical_columns + [\"dummy_employed\"]\n",
    "df_filtered = df.loc[:,filtered_columns]\n",
    "\n",
    "#Filtering for age\n",
    "df_filtered = df_filtered.loc[(df_filtered[\"pvar20\"]>=12) & (df_filtered[\"pvar20\"]<=59)]"
   ]
  },
  {
   "cell_type": "code",
   "execution_count": 9,
   "metadata": {},
   "outputs": [
    {
     "name": "stdout",
     "output_type": "stream",
     "text": [
      "(296501, 19)\n"
     ]
    },
    {
     "data": {
      "text/html": [
       "<div>\n",
       "<style scoped>\n",
       "    .dataframe tbody tr th:only-of-type {\n",
       "        vertical-align: middle;\n",
       "    }\n",
       "\n",
       "    .dataframe tbody tr th {\n",
       "        vertical-align: top;\n",
       "    }\n",
       "\n",
       "    .dataframe thead th {\n",
       "        text-align: right;\n",
       "    }\n",
       "</style>\n",
       "<table border=\"1\" class=\"dataframe\">\n",
       "  <thead>\n",
       "    <tr style=\"text-align: right;\">\n",
       "      <th></th>\n",
       "      <th>hhvar21</th>\n",
       "      <th>hhvar30</th>\n",
       "      <th>pvar20</th>\n",
       "      <th>pvar24</th>\n",
       "      <th>pvar29</th>\n",
       "      <th>hhvar5</th>\n",
       "      <th>hhvar6</th>\n",
       "      <th>hhvar7</th>\n",
       "      <th>hhvar23</th>\n",
       "      <th>hhvar24</th>\n",
       "      <th>pvar18</th>\n",
       "      <th>pvar19</th>\n",
       "      <th>pvar21</th>\n",
       "      <th>pvar22</th>\n",
       "      <th>pvar23</th>\n",
       "      <th>pvar26</th>\n",
       "      <th>pvar28</th>\n",
       "      <th>pvar30</th>\n",
       "      <th>dummy_employed</th>\n",
       "    </tr>\n",
       "  </thead>\n",
       "  <tbody>\n",
       "    <tr>\n",
       "      <th>2</th>\n",
       "      <td>7</td>\n",
       "      <td>8733</td>\n",
       "      <td>40</td>\n",
       "      <td>10</td>\n",
       "      <td>NaN</td>\n",
       "      <td>1</td>\n",
       "      <td>02</td>\n",
       "      <td>04</td>\n",
       "      <td>1</td>\n",
       "      <td>2</td>\n",
       "      <td>3</td>\n",
       "      <td>male</td>\n",
       "      <td>2</td>\n",
       "      <td>08</td>\n",
       "      <td>01</td>\n",
       "      <td>2</td>\n",
       "      <td></td>\n",
       "      <td></td>\n",
       "      <td>1</td>\n",
       "    </tr>\n",
       "    <tr>\n",
       "      <th>3</th>\n",
       "      <td>7</td>\n",
       "      <td>8733</td>\n",
       "      <td>35</td>\n",
       "      <td>10</td>\n",
       "      <td>NaN</td>\n",
       "      <td>1</td>\n",
       "      <td>02</td>\n",
       "      <td>04</td>\n",
       "      <td>1</td>\n",
       "      <td>2</td>\n",
       "      <td>4</td>\n",
       "      <td>female</td>\n",
       "      <td>2</td>\n",
       "      <td>08</td>\n",
       "      <td>01</td>\n",
       "      <td>2</td>\n",
       "      <td></td>\n",
       "      <td></td>\n",
       "      <td>1</td>\n",
       "    </tr>\n",
       "    <tr>\n",
       "      <th>4</th>\n",
       "      <td>7</td>\n",
       "      <td>8733</td>\n",
       "      <td>15</td>\n",
       "      <td>9</td>\n",
       "      <td>NaN</td>\n",
       "      <td>1</td>\n",
       "      <td>02</td>\n",
       "      <td>04</td>\n",
       "      <td>1</td>\n",
       "      <td>2</td>\n",
       "      <td>6</td>\n",
       "      <td>male</td>\n",
       "      <td>1</td>\n",
       "      <td>07</td>\n",
       "      <td>01</td>\n",
       "      <td>6</td>\n",
       "      <td></td>\n",
       "      <td></td>\n",
       "      <td>0</td>\n",
       "    </tr>\n",
       "    <tr>\n",
       "      <th>5</th>\n",
       "      <td>7</td>\n",
       "      <td>8733</td>\n",
       "      <td>12</td>\n",
       "      <td>6</td>\n",
       "      <td>NaN</td>\n",
       "      <td>1</td>\n",
       "      <td>02</td>\n",
       "      <td>04</td>\n",
       "      <td>1</td>\n",
       "      <td>2</td>\n",
       "      <td>6</td>\n",
       "      <td>male</td>\n",
       "      <td>1</td>\n",
       "      <td>06</td>\n",
       "      <td>01</td>\n",
       "      <td>6</td>\n",
       "      <td></td>\n",
       "      <td></td>\n",
       "      <td>0</td>\n",
       "    </tr>\n",
       "    <tr>\n",
       "      <th>6</th>\n",
       "      <td>7</td>\n",
       "      <td>8733</td>\n",
       "      <td>16</td>\n",
       "      <td>12</td>\n",
       "      <td>NaN</td>\n",
       "      <td>1</td>\n",
       "      <td>02</td>\n",
       "      <td>04</td>\n",
       "      <td>1</td>\n",
       "      <td>2</td>\n",
       "      <td>6</td>\n",
       "      <td>female</td>\n",
       "      <td>1</td>\n",
       "      <td>10</td>\n",
       "      <td>01</td>\n",
       "      <td>2</td>\n",
       "      <td></td>\n",
       "      <td></td>\n",
       "      <td>1</td>\n",
       "    </tr>\n",
       "  </tbody>\n",
       "</table>\n",
       "</div>"
      ],
      "text/plain": [
       "   hhvar21  hhvar30  pvar20  pvar24  pvar29 hhvar5 hhvar6 hhvar7 hhvar23  \\\n",
       "2        7     8733      40      10     NaN      1     02     04       1   \n",
       "3        7     8733      35      10     NaN      1     02     04       1   \n",
       "4        7     8733      15       9     NaN      1     02     04       1   \n",
       "5        7     8733      12       6     NaN      1     02     04       1   \n",
       "6        7     8733      16      12     NaN      1     02     04       1   \n",
       "\n",
       "  hhvar24 pvar18  pvar19 pvar21 pvar22 pvar23 pvar26 pvar28 pvar30  \\\n",
       "2       2      3    male      2     08     01      2                 \n",
       "3       2      4  female      2     08     01      2                 \n",
       "4       2      6    male      1     07     01      6                 \n",
       "5       2      6    male      1     06     01      6                 \n",
       "6       2      6  female      1     10     01      2                 \n",
       "\n",
       "   dummy_employed  \n",
       "2               1  \n",
       "3               1  \n",
       "4               0  \n",
       "5               0  \n",
       "6               1  "
      ]
     },
     "execution_count": 9,
     "metadata": {},
     "output_type": "execute_result"
    }
   ],
   "source": [
    "print(df_filtered.shape)\n",
    "df_filtered.head()\n"
   ]
  },
  {
   "cell_type": "markdown",
   "metadata": {},
   "source": [
    "# Treating missing values"
   ]
  },
  {
   "cell_type": "markdown",
   "metadata": {},
   "source": [
    "Three columns had missing values:\n",
    "1. pvar28: Field of training\n",
    "2. pvar29: Duration of training\n",
    "3. pvar30 Type of training"
   ]
  },
  {
   "cell_type": "code",
   "execution_count": 10,
   "metadata": {},
   "outputs": [
    {
     "name": "stdout",
     "output_type": "stream",
     "text": [
      "Missing values count before substitution = [{'pvar29': np.int64(283470)}, {'pvar28': np.int64(283470)}, {'pvar30': np.int64(283470)}]\n",
      "Missing values count before substitution = []\n"
     ]
    },
    {
     "name": "stderr",
     "output_type": "stream",
     "text": [
      "C:\\Users\\Tarun\\AppData\\Local\\Temp\\ipykernel_25260\\108487357.py:12: FutureWarning: The behavior of Series.replace (and DataFrame.replace) with CategoricalDtype is deprecated. In a future version, replace will only be used for cases that preserve the categories. To change the categories, use ser.cat.rename_categories instead.\n",
      "  df_filtered[['pvar28', 'pvar30']] = df_filtered[['pvar28', 'pvar30']].replace('', 'no training')\n"
     ]
    }
   ],
   "source": [
    "#Checking for missing values before substitution\n",
    "empty_list = ['', ' ', np.nan]\n",
    "missing_values = []\n",
    "for col in df_filtered.columns:\n",
    "    empty_count = df_filtered[col].isin(empty_list).sum()\n",
    "    if empty_count>0:\n",
    "        dict = {col:empty_count}\n",
    "        missing_values.append(dict)\n",
    "print(\"Missing values count before substitution = {}\".format(missing_values))\n",
    "\n",
    "#Treating missing values\n",
    "df_filtered[['pvar28', 'pvar30']] = df_filtered[['pvar28', 'pvar30']].replace('', 'no training')\n",
    "df_filtered['pvar29'] = df_filtered['pvar29'].fillna(0)\n",
    "\n",
    "#Checking for missing values after substitution\n",
    "missing_values = []\n",
    "for col in df_filtered.columns:\n",
    "    empty_count = df_filtered[col].isin(empty_list).sum()\n",
    "    if empty_count>0:\n",
    "        dict = {col:empty_count}\n",
    "        missing_values.append(dict)\n",
    "print(\"Missing values count before substitution = {}\".format(missing_values))"
   ]
  },
  {
   "cell_type": "code",
   "execution_count": 11,
   "metadata": {},
   "outputs": [
    {
     "data": {
      "text/html": [
       "<div>\n",
       "<style scoped>\n",
       "    .dataframe tbody tr th:only-of-type {\n",
       "        vertical-align: middle;\n",
       "    }\n",
       "\n",
       "    .dataframe tbody tr th {\n",
       "        vertical-align: top;\n",
       "    }\n",
       "\n",
       "    .dataframe thead th {\n",
       "        text-align: right;\n",
       "    }\n",
       "</style>\n",
       "<table border=\"1\" class=\"dataframe\">\n",
       "  <thead>\n",
       "    <tr style=\"text-align: right;\">\n",
       "      <th></th>\n",
       "      <th>hhvar21</th>\n",
       "      <th>hhvar30</th>\n",
       "      <th>pvar20</th>\n",
       "      <th>pvar24</th>\n",
       "      <th>pvar29</th>\n",
       "      <th>hhvar5</th>\n",
       "      <th>hhvar6</th>\n",
       "      <th>hhvar7</th>\n",
       "      <th>hhvar23</th>\n",
       "      <th>hhvar24</th>\n",
       "      <th>pvar18</th>\n",
       "      <th>pvar19</th>\n",
       "      <th>pvar21</th>\n",
       "      <th>pvar22</th>\n",
       "      <th>pvar23</th>\n",
       "      <th>pvar26</th>\n",
       "      <th>pvar28</th>\n",
       "      <th>pvar30</th>\n",
       "      <th>dummy_employed</th>\n",
       "    </tr>\n",
       "  </thead>\n",
       "  <tbody>\n",
       "    <tr>\n",
       "      <th>2</th>\n",
       "      <td>7</td>\n",
       "      <td>8733</td>\n",
       "      <td>40</td>\n",
       "      <td>10</td>\n",
       "      <td>0.0</td>\n",
       "      <td>1</td>\n",
       "      <td>02</td>\n",
       "      <td>04</td>\n",
       "      <td>1</td>\n",
       "      <td>2</td>\n",
       "      <td>3</td>\n",
       "      <td>male</td>\n",
       "      <td>2</td>\n",
       "      <td>08</td>\n",
       "      <td>01</td>\n",
       "      <td>2</td>\n",
       "      <td>no training</td>\n",
       "      <td>no training</td>\n",
       "      <td>1</td>\n",
       "    </tr>\n",
       "    <tr>\n",
       "      <th>3</th>\n",
       "      <td>7</td>\n",
       "      <td>8733</td>\n",
       "      <td>35</td>\n",
       "      <td>10</td>\n",
       "      <td>0.0</td>\n",
       "      <td>1</td>\n",
       "      <td>02</td>\n",
       "      <td>04</td>\n",
       "      <td>1</td>\n",
       "      <td>2</td>\n",
       "      <td>4</td>\n",
       "      <td>female</td>\n",
       "      <td>2</td>\n",
       "      <td>08</td>\n",
       "      <td>01</td>\n",
       "      <td>2</td>\n",
       "      <td>no training</td>\n",
       "      <td>no training</td>\n",
       "      <td>1</td>\n",
       "    </tr>\n",
       "    <tr>\n",
       "      <th>4</th>\n",
       "      <td>7</td>\n",
       "      <td>8733</td>\n",
       "      <td>15</td>\n",
       "      <td>9</td>\n",
       "      <td>0.0</td>\n",
       "      <td>1</td>\n",
       "      <td>02</td>\n",
       "      <td>04</td>\n",
       "      <td>1</td>\n",
       "      <td>2</td>\n",
       "      <td>6</td>\n",
       "      <td>male</td>\n",
       "      <td>1</td>\n",
       "      <td>07</td>\n",
       "      <td>01</td>\n",
       "      <td>6</td>\n",
       "      <td>no training</td>\n",
       "      <td>no training</td>\n",
       "      <td>0</td>\n",
       "    </tr>\n",
       "    <tr>\n",
       "      <th>5</th>\n",
       "      <td>7</td>\n",
       "      <td>8733</td>\n",
       "      <td>12</td>\n",
       "      <td>6</td>\n",
       "      <td>0.0</td>\n",
       "      <td>1</td>\n",
       "      <td>02</td>\n",
       "      <td>04</td>\n",
       "      <td>1</td>\n",
       "      <td>2</td>\n",
       "      <td>6</td>\n",
       "      <td>male</td>\n",
       "      <td>1</td>\n",
       "      <td>06</td>\n",
       "      <td>01</td>\n",
       "      <td>6</td>\n",
       "      <td>no training</td>\n",
       "      <td>no training</td>\n",
       "      <td>0</td>\n",
       "    </tr>\n",
       "    <tr>\n",
       "      <th>6</th>\n",
       "      <td>7</td>\n",
       "      <td>8733</td>\n",
       "      <td>16</td>\n",
       "      <td>12</td>\n",
       "      <td>0.0</td>\n",
       "      <td>1</td>\n",
       "      <td>02</td>\n",
       "      <td>04</td>\n",
       "      <td>1</td>\n",
       "      <td>2</td>\n",
       "      <td>6</td>\n",
       "      <td>female</td>\n",
       "      <td>1</td>\n",
       "      <td>10</td>\n",
       "      <td>01</td>\n",
       "      <td>2</td>\n",
       "      <td>no training</td>\n",
       "      <td>no training</td>\n",
       "      <td>1</td>\n",
       "    </tr>\n",
       "  </tbody>\n",
       "</table>\n",
       "</div>"
      ],
      "text/plain": [
       "   hhvar21  hhvar30  pvar20  pvar24  pvar29 hhvar5 hhvar6 hhvar7 hhvar23  \\\n",
       "2        7     8733      40      10     0.0      1     02     04       1   \n",
       "3        7     8733      35      10     0.0      1     02     04       1   \n",
       "4        7     8733      15       9     0.0      1     02     04       1   \n",
       "5        7     8733      12       6     0.0      1     02     04       1   \n",
       "6        7     8733      16      12     0.0      1     02     04       1   \n",
       "\n",
       "  hhvar24 pvar18  pvar19 pvar21 pvar22 pvar23 pvar26       pvar28  \\\n",
       "2       2      3    male      2     08     01      2  no training   \n",
       "3       2      4  female      2     08     01      2  no training   \n",
       "4       2      6    male      1     07     01      6  no training   \n",
       "5       2      6    male      1     06     01      6  no training   \n",
       "6       2      6  female      1     10     01      2  no training   \n",
       "\n",
       "        pvar30  dummy_employed  \n",
       "2  no training               1  \n",
       "3  no training               1  \n",
       "4  no training               0  \n",
       "5  no training               0  \n",
       "6  no training               1  "
      ]
     },
     "execution_count": 11,
     "metadata": {},
     "output_type": "execute_result"
    }
   ],
   "source": [
    "df_filtered.head()"
   ]
  },
  {
   "cell_type": "markdown",
   "metadata": {},
   "source": [
    "# Encoding categorical columns"
   ]
  },
  {
   "cell_type": "code",
   "execution_count": 12,
   "metadata": {},
   "outputs": [],
   "source": [
    "label_encoder = LabelEncoder()"
   ]
  },
  {
   "cell_type": "code",
   "execution_count": 13,
   "metadata": {},
   "outputs": [],
   "source": [
    "for col in categorical_columns:\n",
    "    df_filtered[col] = label_encoder.fit_transform(df_filtered[col])"
   ]
  },
  {
   "cell_type": "markdown",
   "metadata": {},
   "source": [
    "# Normalizing numerical values"
   ]
  },
  {
   "cell_type": "code",
   "execution_count": 14,
   "metadata": {},
   "outputs": [],
   "source": [
    "scaler = MinMaxScaler()\n",
    "temp_scaled = pd.DataFrame(scaler.fit_transform(df_filtered[numeric_columns]), columns=numeric_columns,index = df_filtered.index)\n",
    "df_scaled = pd.merge(temp_scaled, df_filtered[categorical_columns + ['dummy_employed']], left_index= True, right_index=True,how = 'outer')"
   ]
  },
  {
   "cell_type": "code",
   "execution_count": 15,
   "metadata": {},
   "outputs": [
    {
     "data": {
      "text/html": [
       "<div>\n",
       "<style scoped>\n",
       "    .dataframe tbody tr th:only-of-type {\n",
       "        vertical-align: middle;\n",
       "    }\n",
       "\n",
       "    .dataframe tbody tr th {\n",
       "        vertical-align: top;\n",
       "    }\n",
       "\n",
       "    .dataframe thead th {\n",
       "        text-align: right;\n",
       "    }\n",
       "</style>\n",
       "<table border=\"1\" class=\"dataframe\">\n",
       "  <thead>\n",
       "    <tr style=\"text-align: right;\">\n",
       "      <th></th>\n",
       "      <th>hhvar21</th>\n",
       "      <th>hhvar30</th>\n",
       "      <th>pvar20</th>\n",
       "      <th>pvar24</th>\n",
       "      <th>pvar29</th>\n",
       "      <th>hhvar5</th>\n",
       "      <th>hhvar6</th>\n",
       "      <th>hhvar7</th>\n",
       "      <th>hhvar23</th>\n",
       "      <th>hhvar24</th>\n",
       "      <th>pvar18</th>\n",
       "      <th>pvar19</th>\n",
       "      <th>pvar21</th>\n",
       "      <th>pvar22</th>\n",
       "      <th>pvar23</th>\n",
       "      <th>pvar26</th>\n",
       "      <th>pvar28</th>\n",
       "      <th>pvar30</th>\n",
       "      <th>dummy_employed</th>\n",
       "    </tr>\n",
       "  </thead>\n",
       "  <tbody>\n",
       "    <tr>\n",
       "      <th>2</th>\n",
       "      <td>0.24</td>\n",
       "      <td>0.053664</td>\n",
       "      <td>0.595745</td>\n",
       "      <td>0.40</td>\n",
       "      <td>0.0</td>\n",
       "      <td>0</td>\n",
       "      <td>1</td>\n",
       "      <td>3</td>\n",
       "      <td>0</td>\n",
       "      <td>1</td>\n",
       "      <td>2</td>\n",
       "      <td>1</td>\n",
       "      <td>1</td>\n",
       "      <td>7</td>\n",
       "      <td>0</td>\n",
       "      <td>1</td>\n",
       "      <td>22</td>\n",
       "      <td>3</td>\n",
       "      <td>1</td>\n",
       "    </tr>\n",
       "    <tr>\n",
       "      <th>3</th>\n",
       "      <td>0.24</td>\n",
       "      <td>0.053664</td>\n",
       "      <td>0.489362</td>\n",
       "      <td>0.40</td>\n",
       "      <td>0.0</td>\n",
       "      <td>0</td>\n",
       "      <td>1</td>\n",
       "      <td>3</td>\n",
       "      <td>0</td>\n",
       "      <td>1</td>\n",
       "      <td>3</td>\n",
       "      <td>0</td>\n",
       "      <td>1</td>\n",
       "      <td>7</td>\n",
       "      <td>0</td>\n",
       "      <td>1</td>\n",
       "      <td>22</td>\n",
       "      <td>3</td>\n",
       "      <td>1</td>\n",
       "    </tr>\n",
       "    <tr>\n",
       "      <th>4</th>\n",
       "      <td>0.24</td>\n",
       "      <td>0.053664</td>\n",
       "      <td>0.063830</td>\n",
       "      <td>0.36</td>\n",
       "      <td>0.0</td>\n",
       "      <td>0</td>\n",
       "      <td>1</td>\n",
       "      <td>3</td>\n",
       "      <td>0</td>\n",
       "      <td>1</td>\n",
       "      <td>5</td>\n",
       "      <td>1</td>\n",
       "      <td>0</td>\n",
       "      <td>6</td>\n",
       "      <td>0</td>\n",
       "      <td>5</td>\n",
       "      <td>22</td>\n",
       "      <td>3</td>\n",
       "      <td>0</td>\n",
       "    </tr>\n",
       "    <tr>\n",
       "      <th>5</th>\n",
       "      <td>0.24</td>\n",
       "      <td>0.053664</td>\n",
       "      <td>0.000000</td>\n",
       "      <td>0.24</td>\n",
       "      <td>0.0</td>\n",
       "      <td>0</td>\n",
       "      <td>1</td>\n",
       "      <td>3</td>\n",
       "      <td>0</td>\n",
       "      <td>1</td>\n",
       "      <td>5</td>\n",
       "      <td>1</td>\n",
       "      <td>0</td>\n",
       "      <td>5</td>\n",
       "      <td>0</td>\n",
       "      <td>5</td>\n",
       "      <td>22</td>\n",
       "      <td>3</td>\n",
       "      <td>0</td>\n",
       "    </tr>\n",
       "    <tr>\n",
       "      <th>6</th>\n",
       "      <td>0.24</td>\n",
       "      <td>0.053664</td>\n",
       "      <td>0.085106</td>\n",
       "      <td>0.48</td>\n",
       "      <td>0.0</td>\n",
       "      <td>0</td>\n",
       "      <td>1</td>\n",
       "      <td>3</td>\n",
       "      <td>0</td>\n",
       "      <td>1</td>\n",
       "      <td>5</td>\n",
       "      <td>0</td>\n",
       "      <td>0</td>\n",
       "      <td>8</td>\n",
       "      <td>0</td>\n",
       "      <td>1</td>\n",
       "      <td>22</td>\n",
       "      <td>3</td>\n",
       "      <td>1</td>\n",
       "    </tr>\n",
       "  </tbody>\n",
       "</table>\n",
       "</div>"
      ],
      "text/plain": [
       "   hhvar21   hhvar30    pvar20  pvar24  pvar29  hhvar5  hhvar6  hhvar7  \\\n",
       "2     0.24  0.053664  0.595745    0.40     0.0       0       1       3   \n",
       "3     0.24  0.053664  0.489362    0.40     0.0       0       1       3   \n",
       "4     0.24  0.053664  0.063830    0.36     0.0       0       1       3   \n",
       "5     0.24  0.053664  0.000000    0.24     0.0       0       1       3   \n",
       "6     0.24  0.053664  0.085106    0.48     0.0       0       1       3   \n",
       "\n",
       "   hhvar23  hhvar24  pvar18  pvar19  pvar21  pvar22  pvar23  pvar26  pvar28  \\\n",
       "2        0        1       2       1       1       7       0       1      22   \n",
       "3        0        1       3       0       1       7       0       1      22   \n",
       "4        0        1       5       1       0       6       0       5      22   \n",
       "5        0        1       5       1       0       5       0       5      22   \n",
       "6        0        1       5       0       0       8       0       1      22   \n",
       "\n",
       "   pvar30  dummy_employed  \n",
       "2       3               1  \n",
       "3       3               1  \n",
       "4       3               0  \n",
       "5       3               0  \n",
       "6       3               1  "
      ]
     },
     "execution_count": 15,
     "metadata": {},
     "output_type": "execute_result"
    }
   ],
   "source": [
    "df_scaled.head()"
   ]
  },
  {
   "cell_type": "markdown",
   "metadata": {},
   "source": [
    "# Splitting the data"
   ]
  },
  {
   "cell_type": "code",
   "execution_count": 16,
   "metadata": {},
   "outputs": [],
   "source": [
    "#Predictor variables\n",
    "X = df_scaled[numeric_columns + categorical_columns]\n",
    "\n",
    "#Target variable\n",
    "y = df_scaled['dummy_employed']\n",
    "y = pd.get_dummies(y) #NN requires one-hot encoding for classification"
   ]
  },
  {
   "cell_type": "code",
   "execution_count": 31,
   "metadata": {},
   "outputs": [],
   "source": [
    "X_train,X_test,y_train,y_test = train_test_split(X,y,\n",
    "                                                 test_size=0.2, \n",
    "                                                 random_state=42\n",
    "                                                 ) "
   ]
  },
  {
   "cell_type": "markdown",
   "metadata": {},
   "source": [
    "# Training"
   ]
  },
  {
   "cell_type": "code",
   "execution_count": 49,
   "metadata": {},
   "outputs": [],
   "source": [
    "def nn_model (x_training,y_training,num_hidden_layers = 3):\n",
    "    \n",
    "    #Instatiating a sequential NN\n",
    "    model = Sequential()\n",
    "\n",
    "    #Setting up input layer\n",
    "    model.add(Input(shape = (len(x_training.columns),)))\n",
    "\n",
    "    #Setting up hidden layers\n",
    "    for i in range(num_hidden_layers):\n",
    "        model.add(Dense(15,activation = 'relu',name = f'layer_{i}'))\n",
    "\n",
    "    #Setting up the output layer\n",
    "    model.add(Dense(y_training.shape[1],activation='softmax'))\n",
    "\n",
    "    #Compiling the model\n",
    "    model.compile(optimizer='adam', loss='categorical_crossentropy', metrics=['accuracy'])\n",
    "\n",
    "    #Fitting the model\n",
    "    model.fit(x_training,y_training, epochs = 2,verbose = 1)\n",
    "\n",
    "    return model"
   ]
  },
  {
   "cell_type": "code",
   "execution_count": 45,
   "metadata": {},
   "outputs": [],
   "source": [
    "import tensorflow as tf\n",
    "tf.random.set_seed(42)\n",
    "np.random.seed(42)"
   ]
  },
  {
   "cell_type": "code",
   "execution_count": 51,
   "metadata": {},
   "outputs": [
    {
     "name": "stdout",
     "output_type": "stream",
     "text": [
      "Epoch 1/2\n",
      "\u001b[1m7413/7413\u001b[0m \u001b[32m━━━━━━━━━━━━━━━━━━━━\u001b[0m\u001b[37m\u001b[0m \u001b[1m13s\u001b[0m 2ms/step - accuracy: 0.7683 - loss: 0.4752\n",
      "Epoch 2/2\n",
      "\u001b[1m7413/7413\u001b[0m \u001b[32m━━━━━━━━━━━━━━━━━━━━\u001b[0m\u001b[37m\u001b[0m \u001b[1m12s\u001b[0m 2ms/step - accuracy: 0.8261 - loss: 0.3886\n"
     ]
    }
   ],
   "source": [
    "a = nn_model(X_train,y_train)"
   ]
  },
  {
   "cell_type": "code",
   "execution_count": 47,
   "metadata": {},
   "outputs": [
    {
     "name": "stdout",
     "output_type": "stream",
     "text": [
      "Epoch 1/2\n",
      "\u001b[1m7413/7413\u001b[0m \u001b[32m━━━━━━━━━━━━━━━━━━━━\u001b[0m\u001b[37m\u001b[0m \u001b[1m15s\u001b[0m 2ms/step - accuracy: 0.7697 - loss: 0.4721\n",
      "Epoch 2/2\n",
      "\u001b[1m7413/7413\u001b[0m \u001b[32m━━━━━━━━━━━━━━━━━━━━\u001b[0m\u001b[37m\u001b[0m \u001b[1m13s\u001b[0m 2ms/step - accuracy: 0.8304 - loss: 0.3729\n"
     ]
    },
    {
     "data": {
      "text/plain": [
       "<keras.src.callbacks.history.History at 0x1f30b019940>"
      ]
     },
     "execution_count": 47,
     "metadata": {},
     "output_type": "execute_result"
    }
   ],
   "source": [
    "a.fit(X_train,y_train,\n",
    "          #validation_data=(X_test,y_test), \n",
    "          epochs=2,verbose=1)"
   ]
  },
  {
   "cell_type": "code",
   "execution_count": 48,
   "metadata": {},
   "outputs": [
    {
     "name": "stdout",
     "output_type": "stream",
     "text": [
      "Epoch 1/2\n",
      "\u001b[1m7413/7413\u001b[0m \u001b[32m━━━━━━━━━━━━━━━━━━━━\u001b[0m\u001b[37m\u001b[0m \u001b[1m21s\u001b[0m 3ms/step - accuracy: 0.8404 - loss: 0.3530\n",
      "Epoch 2/2\n",
      "\u001b[1m7413/7413\u001b[0m \u001b[32m━━━━━━━━━━━━━━━━━━━━\u001b[0m\u001b[37m\u001b[0m \u001b[1m28s\u001b[0m 4ms/step - accuracy: 0.8437 - loss: 0.3460\n"
     ]
    },
    {
     "data": {
      "text/plain": [
       "<keras.src.callbacks.history.History at 0x1f30b035d30>"
      ]
     },
     "execution_count": 48,
     "metadata": {},
     "output_type": "execute_result"
    }
   ],
   "source": [
    "a.fit(X_train,y_train,\n",
    "          #validation_data=(X_test,y_test), \n",
    "          epochs=2,verbose=1)"
   ]
  },
  {
   "cell_type": "code",
   "execution_count": 32,
   "metadata": {},
   "outputs": [],
   "source": [
    "#Instatiating a sequential NN\n",
    "model = Sequential()\n",
    "\n",
    "#Setting up the input layer\n",
    "model.add(Input(shape = (len(X.columns),)))\n",
    "\n",
    "#Setting up the hidden layers\n",
    "model.add(Dense(10,activation='relu', name = \"layer_1\"))\n",
    "model.add(Dense(15,activation='relu', name = \"layer_2\"))\n",
    "model.add(Dense(10,activation='relu', name = \"layer_3\"))\n",
    "\n",
    "#Setting up the output layer\n",
    "model.add(Dense(y.shape[1],activation='softmax'))\n",
    "\n",
    "#Compiling the model\n",
    "model.compile(optimizer='adam', loss='categorical_crossentropy', metrics=['accuracy'])"
   ]
  },
  {
   "cell_type": "code",
   "execution_count": 36,
   "metadata": {},
   "outputs": [
    {
     "name": "stdout",
     "output_type": "stream",
     "text": [
      "Epoch 1/2\n",
      "\u001b[1m7413/7413\u001b[0m \u001b[32m━━━━━━━━━━━━━━━━━━━━\u001b[0m\u001b[37m\u001b[0m \u001b[1m10s\u001b[0m 1ms/step - accuracy: 0.8346 - loss: 0.3665\n",
      "Epoch 2/2\n",
      "\u001b[1m7413/7413\u001b[0m \u001b[32m━━━━━━━━━━━━━━━━━━━━\u001b[0m\u001b[37m\u001b[0m \u001b[1m11s\u001b[0m 1ms/step - accuracy: 0.8387 - loss: 0.3563\n"
     ]
    },
    {
     "data": {
      "text/plain": [
       "<keras.src.callbacks.history.History at 0x1f2fffc9c70>"
      ]
     },
     "execution_count": 36,
     "metadata": {},
     "output_type": "execute_result"
    }
   ],
   "source": [
    "model.fit(X_train,y_train,\n",
    "          #validation_data=(X_test,y_test), \n",
    "          epochs=2,verbose=1)"
   ]
  },
  {
   "cell_type": "code",
   "execution_count": 56,
   "metadata": {},
   "outputs": [
    {
     "name": "stdout",
     "output_type": "stream",
     "text": [
      "\u001b[1m1854/1854\u001b[0m \u001b[32m━━━━━━━━━━━━━━━━━━━━\u001b[0m\u001b[37m\u001b[0m \u001b[1m3s\u001b[0m 1ms/step - accuracy: 0.8359 - loss: 0.3646\n"
     ]
    }
   ],
   "source": [
    "benchmark_accuracy = a.evaluate(X_test,y_test)[1]"
   ]
  },
  {
   "cell_type": "code",
   "execution_count": 57,
   "metadata": {},
   "outputs": [
    {
     "data": {
      "text/plain": [
       "0.83651202917099"
      ]
     },
     "execution_count": 57,
     "metadata": {},
     "output_type": "execute_result"
    }
   ],
   "source": [
    "benchmark_accuracy"
   ]
  },
  {
   "cell_type": "markdown",
   "metadata": {},
   "source": [
    "# Feature importance"
   ]
  },
  {
   "cell_type": "code",
   "execution_count": 58,
   "metadata": {},
   "outputs": [],
   "source": [
    "def feature_importance (x_training,x_testing,y_training,y_testing,model = nn_model):\n",
    "\n",
    "    #Running the benchmark model\n",
    "    benchmark_model = model(x_training,y_training)\n",
    "    benchmark_accuracy = benchmark_model.evaluate(x_testing,y_testing)[1]\n",
    "    \n",
    "    #Initializing empty dictionary for storing importance scores\n",
    "    importance_dict = {}\n",
    "\n",
    "    #Iterating through columns\n",
    "    with tqdm (total = x_training.shape[1]) as pbar:\n",
    "        for col in x_training.columns:\n",
    "            print(f\"\\n \\n=====Computing for column {col}=====\\n\")\n",
    "            \n",
    "            x_training_copy = x_training.copy()\n",
    "            x_training_copy.loc[:,col] = np.random.permutation(x_training_copy.loc[:,col]) #Shuffling values of col i\n",
    "\n",
    "            #Training the model after shuffling\n",
    "            new_model = model(x_training_copy,y_training)\n",
    "        \n",
    "            #Extracting accuracy score\n",
    "            new_accuracy = new_model.evaluate(x_testing,y_testing)[1]\n",
    "            importance_score = benchmark_accuracy - new_accuracy\n",
    "\n",
    "            #Storing accuracy score\n",
    "            importance_dict[col] = importance_score\n",
    "\n",
    "            #Pring progress\n",
    "            print(f\"Shuffling of column {col} complete. Drop in accuracy = {importance_score}\")\n",
    "\n",
    "            #Update progress bar\n",
    "            pbar.update(1)\n",
    "\n",
    "    return importance_dict\n"
   ]
  },
  {
   "cell_type": "code",
   "execution_count": 59,
   "metadata": {},
   "outputs": [
    {
     "name": "stdout",
     "output_type": "stream",
     "text": [
      "Epoch 1/2\n",
      "\u001b[1m7413/7413\u001b[0m \u001b[32m━━━━━━━━━━━━━━━━━━━━\u001b[0m\u001b[37m\u001b[0m \u001b[1m23s\u001b[0m 3ms/step - accuracy: 0.7855 - loss: 0.4691\n",
      "Epoch 2/2\n",
      "\u001b[1m7413/7413\u001b[0m \u001b[32m━━━━━━━━━━━━━━━━━━━━\u001b[0m\u001b[37m\u001b[0m \u001b[1m12s\u001b[0m 2ms/step - accuracy: 0.8301 - loss: 0.3758\n",
      "\u001b[1m1854/1854\u001b[0m \u001b[32m━━━━━━━━━━━━━━━━━━━━\u001b[0m\u001b[37m\u001b[0m \u001b[1m3s\u001b[0m 2ms/step - accuracy: 0.8397 - loss: 0.3568\n"
     ]
    },
    {
     "data": {
      "application/vnd.jupyter.widget-view+json": {
       "model_id": "0fab81d2c4b94d5ba58bcf14ac33c4c9",
       "version_major": 2,
       "version_minor": 0
      },
      "text/plain": [
       "  0%|          | 0/18 [00:00<?, ?it/s]"
      ]
     },
     "metadata": {},
     "output_type": "display_data"
    },
    {
     "name": "stdout",
     "output_type": "stream",
     "text": [
      "\n",
      " \n",
      "=====Computing for column hhvar21=====\n",
      "\n",
      "Epoch 1/2\n",
      "\u001b[1m7413/7413\u001b[0m \u001b[32m━━━━━━━━━━━━━━━━━━━━\u001b[0m\u001b[37m\u001b[0m \u001b[1m14s\u001b[0m 2ms/step - accuracy: 0.7854 - loss: 0.4529\n",
      "Epoch 2/2\n",
      "\u001b[1m7413/7413\u001b[0m \u001b[32m━━━━━━━━━━━━━━━━━━━━\u001b[0m\u001b[37m\u001b[0m \u001b[1m13s\u001b[0m 2ms/step - accuracy: 0.8343 - loss: 0.3672\n",
      "\u001b[1m1854/1854\u001b[0m \u001b[32m━━━━━━━━━━━━━━━━━━━━\u001b[0m\u001b[37m\u001b[0m \u001b[1m3s\u001b[0m 1ms/step - accuracy: 0.8428 - loss: 0.3524\n",
      "Shuffling of column hhvar21 complete. Drop in accuracy = -0.0029172897338867188\n",
      "\n",
      " \n",
      "=====Computing for column hhvar30=====\n",
      "\n",
      "Epoch 1/2\n",
      "\u001b[1m7413/7413\u001b[0m \u001b[32m━━━━━━━━━━━━━━━━━━━━\u001b[0m\u001b[37m\u001b[0m \u001b[1m14s\u001b[0m 2ms/step - accuracy: 0.7727 - loss: 0.4879\n",
      "Epoch 2/2\n",
      "\u001b[1m7413/7413\u001b[0m \u001b[32m━━━━━━━━━━━━━━━━━━━━\u001b[0m\u001b[37m\u001b[0m \u001b[1m12s\u001b[0m 2ms/step - accuracy: 0.8256 - loss: 0.3918\n",
      "\u001b[1m1854/1854\u001b[0m \u001b[32m━━━━━━━━━━━━━━━━━━━━\u001b[0m\u001b[37m\u001b[0m \u001b[1m3s\u001b[0m 2ms/step - accuracy: 0.8338 - loss: 0.3716\n",
      "Shuffling of column hhvar30 complete. Drop in accuracy = 0.00622248649597168\n",
      "\n",
      " \n",
      "=====Computing for column pvar20=====\n",
      "\n",
      "Epoch 1/2\n",
      "\u001b[1m7413/7413\u001b[0m \u001b[32m━━━━━━━━━━━━━━━━━━━━\u001b[0m\u001b[37m\u001b[0m \u001b[1m14s\u001b[0m 2ms/step - accuracy: 0.7757 - loss: 0.4688\n",
      "Epoch 2/2\n",
      "\u001b[1m7413/7413\u001b[0m \u001b[32m━━━━━━━━━━━━━━━━━━━━\u001b[0m\u001b[37m\u001b[0m \u001b[1m12s\u001b[0m 2ms/step - accuracy: 0.8225 - loss: 0.4008\n",
      "\u001b[1m1854/1854\u001b[0m \u001b[32m━━━━━━━━━━━━━━━━━━━━\u001b[0m\u001b[37m\u001b[0m \u001b[1m3s\u001b[0m 1ms/step - accuracy: 0.8281 - loss: 0.3894\n",
      "Shuffling of column pvar20 complete. Drop in accuracy = 0.01180422306060791\n",
      "\n",
      " \n",
      "=====Computing for column pvar24=====\n",
      "\n",
      "Epoch 1/2\n",
      "\u001b[1m7413/7413\u001b[0m \u001b[32m━━━━━━━━━━━━━━━━━━━━\u001b[0m\u001b[37m\u001b[0m \u001b[1m14s\u001b[0m 2ms/step - accuracy: 0.7793 - loss: 0.4688\n",
      "Epoch 2/2\n",
      "\u001b[1m7413/7413\u001b[0m \u001b[32m━━━━━━━━━━━━━━━━━━━━\u001b[0m\u001b[37m\u001b[0m \u001b[1m12s\u001b[0m 2ms/step - accuracy: 0.8253 - loss: 0.3833\n",
      "\u001b[1m1854/1854\u001b[0m \u001b[32m━━━━━━━━━━━━━━━━━━━━\u001b[0m\u001b[37m\u001b[0m \u001b[1m3s\u001b[0m 2ms/step - accuracy: 0.8376 - loss: 0.3616\n",
      "Shuffling of column pvar24 complete. Drop in accuracy = 0.002225935459136963\n",
      "\n",
      " \n",
      "=====Computing for column pvar29=====\n",
      "\n",
      "Epoch 1/2\n",
      "\u001b[1m7413/7413\u001b[0m \u001b[32m━━━━━━━━━━━━━━━━━━━━\u001b[0m\u001b[37m\u001b[0m \u001b[1m15s\u001b[0m 2ms/step - accuracy: 0.7728 - loss: 0.4776\n",
      "Epoch 2/2\n",
      "\u001b[1m7413/7413\u001b[0m \u001b[32m━━━━━━━━━━━━━━━━━━━━\u001b[0m\u001b[37m\u001b[0m \u001b[1m12s\u001b[0m 2ms/step - accuracy: 0.8282 - loss: 0.3803\n",
      "\u001b[1m1854/1854\u001b[0m \u001b[32m━━━━━━━━━━━━━━━━━━━━\u001b[0m\u001b[37m\u001b[0m \u001b[1m3s\u001b[0m 2ms/step - accuracy: 0.8350 - loss: 0.3646\n",
      "Shuffling of column pvar29 complete. Drop in accuracy = 0.0048059821128845215\n",
      "\n",
      " \n",
      "=====Computing for column hhvar5=====\n",
      "\n",
      "Epoch 1/2\n",
      "\u001b[1m7413/7413\u001b[0m \u001b[32m━━━━━━━━━━━━━━━━━━━━\u001b[0m\u001b[37m\u001b[0m \u001b[1m14s\u001b[0m 2ms/step - accuracy: 0.7706 - loss: 0.4775\n",
      "Epoch 2/2\n",
      "\u001b[1m7413/7413\u001b[0m \u001b[32m━━━━━━━━━━━━━━━━━━━━\u001b[0m\u001b[37m\u001b[0m \u001b[1m12s\u001b[0m 2ms/step - accuracy: 0.8225 - loss: 0.3818\n",
      "\u001b[1m1854/1854\u001b[0m \u001b[32m━━━━━━━━━━━━━━━━━━━━\u001b[0m\u001b[37m\u001b[0m \u001b[1m3s\u001b[0m 2ms/step - accuracy: 0.8323 - loss: 0.3622\n",
      "Shuffling of column hhvar5 complete. Drop in accuracy = 0.006003260612487793\n",
      "\n",
      " \n",
      "=====Computing for column hhvar6=====\n",
      "\n",
      "Epoch 1/2\n",
      "\u001b[1m7413/7413\u001b[0m \u001b[32m━━━━━━━━━━━━━━━━━━━━\u001b[0m\u001b[37m\u001b[0m \u001b[1m13s\u001b[0m 2ms/step - accuracy: 0.7788 - loss: 0.4948\n",
      "Epoch 2/2\n",
      "\u001b[1m7413/7413\u001b[0m \u001b[32m━━━━━━━━━━━━━━━━━━━━\u001b[0m\u001b[37m\u001b[0m \u001b[1m26s\u001b[0m 4ms/step - accuracy: 0.8307 - loss: 0.3725\n",
      "\u001b[1m1854/1854\u001b[0m \u001b[32m━━━━━━━━━━━━━━━━━━━━\u001b[0m\u001b[37m\u001b[0m \u001b[1m3s\u001b[0m 2ms/step - accuracy: 0.8409 - loss: 0.3537\n",
      "Shuffling of column hhvar6 complete. Drop in accuracy = -0.0011972784996032715\n",
      "\n",
      " \n",
      "=====Computing for column hhvar7=====\n",
      "\n",
      "Epoch 1/2\n",
      "\u001b[1m7413/7413\u001b[0m \u001b[32m━━━━━━━━━━━━━━━━━━━━\u001b[0m\u001b[37m\u001b[0m \u001b[1m14s\u001b[0m 2ms/step - accuracy: 0.7815 - loss: 0.4589\n",
      "Epoch 2/2\n",
      "\u001b[1m7413/7413\u001b[0m \u001b[32m━━━━━━━━━━━━━━━━━━━━\u001b[0m\u001b[37m\u001b[0m \u001b[1m12s\u001b[0m 2ms/step - accuracy: 0.8266 - loss: 0.3837\n",
      "\u001b[1m1854/1854\u001b[0m \u001b[32m━━━━━━━━━━━━━━━━━━━━\u001b[0m\u001b[37m\u001b[0m \u001b[1m3s\u001b[0m 2ms/step - accuracy: 0.8353 - loss: 0.3694\n",
      "Shuffling of column hhvar7 complete. Drop in accuracy = 0.004873454570770264\n",
      "\n",
      " \n",
      "=====Computing for column hhvar23=====\n",
      "\n",
      "Epoch 1/2\n",
      "\u001b[1m7413/7413\u001b[0m \u001b[32m━━━━━━━━━━━━━━━━━━━━\u001b[0m\u001b[37m\u001b[0m \u001b[1m14s\u001b[0m 2ms/step - accuracy: 0.7870 - loss: 0.4630\n",
      "Epoch 2/2\n",
      "\u001b[1m7413/7413\u001b[0m \u001b[32m━━━━━━━━━━━━━━━━━━━━\u001b[0m\u001b[37m\u001b[0m \u001b[1m12s\u001b[0m 2ms/step - accuracy: 0.8302 - loss: 0.3751\n",
      "\u001b[1m1854/1854\u001b[0m \u001b[32m━━━━━━━━━━━━━━━━━━━━\u001b[0m\u001b[37m\u001b[0m \u001b[1m3s\u001b[0m 2ms/step - accuracy: 0.8440 - loss: 0.3530\n",
      "Shuffling of column hhvar23 complete. Drop in accuracy = -0.0025125741958618164\n",
      "\n",
      " \n",
      "=====Computing for column hhvar24=====\n",
      "\n",
      "Epoch 1/2\n",
      "\u001b[1m7413/7413\u001b[0m \u001b[32m━━━━━━━━━━━━━━━━━━━━\u001b[0m\u001b[37m\u001b[0m \u001b[1m13s\u001b[0m 2ms/step - accuracy: 0.7695 - loss: 0.4813\n",
      "Epoch 2/2\n",
      "\u001b[1m7413/7413\u001b[0m \u001b[32m━━━━━━━━━━━━━━━━━━━━\u001b[0m\u001b[37m\u001b[0m \u001b[1m12s\u001b[0m 2ms/step - accuracy: 0.8224 - loss: 0.3907\n",
      "\u001b[1m1854/1854\u001b[0m \u001b[32m━━━━━━━━━━━━━━━━━━━━\u001b[0m\u001b[37m\u001b[0m \u001b[1m3s\u001b[0m 2ms/step - accuracy: 0.8308 - loss: 0.3759\n",
      "Shuffling of column hhvar24 complete. Drop in accuracy = 0.009375929832458496\n",
      "\n",
      " \n",
      "=====Computing for column pvar18=====\n",
      "\n",
      "Epoch 1/2\n",
      "\u001b[1m7413/7413\u001b[0m \u001b[32m━━━━━━━━━━━━━━━━━━━━\u001b[0m\u001b[37m\u001b[0m \u001b[1m14s\u001b[0m 2ms/step - accuracy: 0.7660 - loss: 0.5188\n",
      "Epoch 2/2\n",
      "\u001b[1m7413/7413\u001b[0m \u001b[32m━━━━━━━━━━━━━━━━━━━━\u001b[0m\u001b[37m\u001b[0m \u001b[1m12s\u001b[0m 2ms/step - accuracy: 0.8303 - loss: 0.3762\n",
      "\u001b[1m1854/1854\u001b[0m \u001b[32m━━━━━━━━━━━━━━━━━━━━\u001b[0m\u001b[37m\u001b[0m \u001b[1m4s\u001b[0m 2ms/step - accuracy: 0.8396 - loss: 0.3573\n",
      "Shuffling of column pvar18 complete. Drop in accuracy = -0.000455319881439209\n",
      "\n",
      " \n",
      "=====Computing for column pvar19=====\n",
      "\n",
      "Epoch 1/2\n",
      "\u001b[1m7413/7413\u001b[0m \u001b[32m━━━━━━━━━━━━━━━━━━━━\u001b[0m\u001b[37m\u001b[0m \u001b[1m13s\u001b[0m 2ms/step - accuracy: 0.7423 - loss: 0.5172\n",
      "Epoch 2/2\n",
      "\u001b[1m7413/7413\u001b[0m \u001b[32m━━━━━━━━━━━━━━━━━━━━\u001b[0m\u001b[37m\u001b[0m \u001b[1m12s\u001b[0m 2ms/step - accuracy: 0.7864 - loss: 0.4511\n",
      "\u001b[1m1854/1854\u001b[0m \u001b[32m━━━━━━━━━━━━━━━━━━━━\u001b[0m\u001b[37m\u001b[0m \u001b[1m3s\u001b[0m 2ms/step - accuracy: 0.7873 - loss: 0.4481\n",
      "Shuffling of column pvar19 complete. Drop in accuracy = 0.05119645595550537\n",
      "\n",
      " \n",
      "=====Computing for column pvar21=====\n",
      "\n",
      "Epoch 1/2\n",
      "\u001b[1m7413/7413\u001b[0m \u001b[32m━━━━━━━━━━━━━━━━━━━━\u001b[0m\u001b[37m\u001b[0m \u001b[1m13s\u001b[0m 2ms/step - accuracy: 0.7635 - loss: 0.4847\n",
      "Epoch 2/2\n",
      "\u001b[1m7413/7413\u001b[0m \u001b[32m━━━━━━━━━━━━━━━━━━━━\u001b[0m\u001b[37m\u001b[0m \u001b[1m13s\u001b[0m 2ms/step - accuracy: 0.8238 - loss: 0.3866\n",
      "\u001b[1m1854/1854\u001b[0m \u001b[32m━━━━━━━━━━━━━━━━━━━━\u001b[0m\u001b[37m\u001b[0m \u001b[1m3s\u001b[0m 1ms/step - accuracy: 0.8371 - loss: 0.3596\n",
      "Shuffling of column pvar21 complete. Drop in accuracy = 0.0019392967224121094\n",
      "\n",
      " \n",
      "=====Computing for column pvar22=====\n",
      "\n",
      "Epoch 1/2\n",
      "\u001b[1m7413/7413\u001b[0m \u001b[32m━━━━━━━━━━━━━━━━━━━━\u001b[0m\u001b[37m\u001b[0m \u001b[1m14s\u001b[0m 2ms/step - accuracy: 0.7943 - loss: 0.4496\n",
      "Epoch 2/2\n",
      "\u001b[1m7413/7413\u001b[0m \u001b[32m━━━━━━━━━━━━━━━━━━━━\u001b[0m\u001b[37m\u001b[0m \u001b[1m12s\u001b[0m 2ms/step - accuracy: 0.8243 - loss: 0.3914\n",
      "\u001b[1m1854/1854\u001b[0m \u001b[32m━━━━━━━━━━━━━━━━━━━━\u001b[0m\u001b[37m\u001b[0m \u001b[1m3s\u001b[0m 1ms/step - accuracy: 0.8366 - loss: 0.3656\n",
      "Shuffling of column pvar22 complete. Drop in accuracy = 0.003541290760040283\n",
      "\n",
      " \n",
      "=====Computing for column pvar23=====\n",
      "\n",
      "Epoch 1/2\n",
      "\u001b[1m7413/7413\u001b[0m \u001b[32m━━━━━━━━━━━━━━━━━━━━\u001b[0m\u001b[37m\u001b[0m \u001b[1m14s\u001b[0m 2ms/step - accuracy: 0.7757 - loss: 0.4720\n",
      "Epoch 2/2\n",
      "\u001b[1m7413/7413\u001b[0m \u001b[32m━━━━━━━━━━━━━━━━━━━━\u001b[0m\u001b[37m\u001b[0m \u001b[1m12s\u001b[0m 2ms/step - accuracy: 0.8245 - loss: 0.3869\n",
      "\u001b[1m1854/1854\u001b[0m \u001b[32m━━━━━━━━━━━━━━━━━━━━\u001b[0m\u001b[37m\u001b[0m \u001b[1m3s\u001b[0m 1ms/step - accuracy: 0.8382 - loss: 0.3556\n",
      "Shuffling of column pvar23 complete. Drop in accuracy = 0.001045525074005127\n",
      "\n",
      " \n",
      "=====Computing for column pvar26=====\n",
      "\n",
      "Epoch 1/2\n",
      "\u001b[1m7413/7413\u001b[0m \u001b[32m━━━━━━━━━━━━━━━━━━━━\u001b[0m\u001b[37m\u001b[0m \u001b[1m15s\u001b[0m 2ms/step - accuracy: 0.7255 - loss: 0.5387\n",
      "Epoch 2/2\n",
      "\u001b[1m7413/7413\u001b[0m \u001b[32m━━━━━━━━━━━━━━━━━━━━\u001b[0m\u001b[37m\u001b[0m \u001b[1m12s\u001b[0m 2ms/step - accuracy: 0.7891 - loss: 0.4329\n",
      "\u001b[1m1854/1854\u001b[0m \u001b[32m━━━━━━━━━━━━━━━━━━━━\u001b[0m\u001b[37m\u001b[0m \u001b[1m3s\u001b[0m 2ms/step - accuracy: 0.8148 - loss: 0.3959\n",
      "Shuffling of column pvar26 complete. Drop in accuracy = 0.026424527168273926\n",
      "\n",
      " \n",
      "=====Computing for column pvar28=====\n",
      "\n",
      "Epoch 1/2\n",
      "\u001b[1m7413/7413\u001b[0m \u001b[32m━━━━━━━━━━━━━━━━━━━━\u001b[0m\u001b[37m\u001b[0m \u001b[1m13s\u001b[0m 2ms/step - accuracy: 0.7780 - loss: 0.4831\n",
      "Epoch 2/2\n",
      "\u001b[1m7413/7413\u001b[0m \u001b[32m━━━━━━━━━━━━━━━━━━━━\u001b[0m\u001b[37m\u001b[0m \u001b[1m20s\u001b[0m 2ms/step - accuracy: 0.8233 - loss: 0.3895\n",
      "\u001b[1m1854/1854\u001b[0m \u001b[32m━━━━━━━━━━━━━━━━━━━━\u001b[0m\u001b[37m\u001b[0m \u001b[1m4s\u001b[0m 2ms/step - accuracy: 0.8391 - loss: 0.3636\n",
      "Shuffling of column pvar28 complete. Drop in accuracy = 0.0023776888847351074\n",
      "\n",
      " \n",
      "=====Computing for column pvar30=====\n",
      "\n",
      "Epoch 1/2\n",
      "\u001b[1m7413/7413\u001b[0m \u001b[32m━━━━━━━━━━━━━━━━━━━━\u001b[0m\u001b[37m\u001b[0m \u001b[1m13s\u001b[0m 2ms/step - accuracy: 0.7637 - loss: 0.4736\n",
      "Epoch 2/2\n",
      "\u001b[1m7413/7413\u001b[0m \u001b[32m━━━━━━━━━━━━━━━━━━━━\u001b[0m\u001b[37m\u001b[0m \u001b[1m12s\u001b[0m 2ms/step - accuracy: 0.8261 - loss: 0.3894\n",
      "\u001b[1m1854/1854\u001b[0m \u001b[32m━━━━━━━━━━━━━━━━━━━━\u001b[0m\u001b[37m\u001b[0m \u001b[1m3s\u001b[0m 2ms/step - accuracy: 0.8359 - loss: 0.3679\n",
      "Shuffling of column pvar30 complete. Drop in accuracy = 0.00409775972366333\n"
     ]
    },
    {
     "data": {
      "text/plain": [
       "{'hhvar21': -0.0029172897338867188,\n",
       " 'hhvar30': 0.00622248649597168,\n",
       " 'pvar20': 0.01180422306060791,\n",
       " 'pvar24': 0.002225935459136963,\n",
       " 'pvar29': 0.0048059821128845215,\n",
       " 'hhvar5': 0.006003260612487793,\n",
       " 'hhvar6': -0.0011972784996032715,\n",
       " 'hhvar7': 0.004873454570770264,\n",
       " 'hhvar23': -0.0025125741958618164,\n",
       " 'hhvar24': 0.009375929832458496,\n",
       " 'pvar18': -0.000455319881439209,\n",
       " 'pvar19': 0.05119645595550537,\n",
       " 'pvar21': 0.0019392967224121094,\n",
       " 'pvar22': 0.003541290760040283,\n",
       " 'pvar23': 0.001045525074005127,\n",
       " 'pvar26': 0.026424527168273926,\n",
       " 'pvar28': 0.0023776888847351074,\n",
       " 'pvar30': 0.00409775972366333}"
      ]
     },
     "execution_count": 59,
     "metadata": {},
     "output_type": "execute_result"
    }
   ],
   "source": [
    "feature_importance(x_training=X_train, y_training=y_train,x_testing=X_test,y_testing=y_test)"
   ]
  }
 ],
 "metadata": {
  "kernelspec": {
   "display_name": ".venv",
   "language": "python",
   "name": "python3"
  },
  "language_info": {
   "codemirror_mode": {
    "name": "ipython",
    "version": 3
   },
   "file_extension": ".py",
   "mimetype": "text/x-python",
   "name": "python",
   "nbconvert_exporter": "python",
   "pygments_lexer": "ipython3",
   "version": "3.12.4"
  }
 },
 "nbformat": 4,
 "nbformat_minor": 2
}
